{
 "cells": [
  {
   "cell_type": "markdown",
   "id": "4246a4d2",
   "metadata": {},
   "source": [
    "Загрузка необходимых библиотек"
   ]
  },
  {
   "cell_type": "code",
   "execution_count": 3,
   "id": "e5fbfed8",
   "metadata": {},
   "outputs": [],
   "source": [
    "import numpy as np\n",
    "import pandas as pd\n",
    "import requests\n",
    "from io import StringIO\n",
    "from neo4j import GraphDatabase"
   ]
  },
  {
   "cell_type": "code",
   "execution_count": 4,
   "id": "f364f607",
   "metadata": {},
   "outputs": [],
   "source": [
    "from py2neo import Graph, Node, Relationship, NodeMatcher, walk\n",
    "import networkx as nx\n",
    "import matplotlib.pyplot as plt\n",
    "from pyvis.network import Network"
   ]
  },
  {
   "cell_type": "code",
   "execution_count": 5,
   "id": "3a7f79e5",
   "metadata": {},
   "outputs": [],
   "source": [
    "import logging\n",
    "from neo4j.exceptions import ServiceUnavailable"
   ]
  },
  {
   "cell_type": "markdown",
   "id": "c922035e",
   "metadata": {},
   "source": [
    "Загрузка данных и создание датафрейма"
   ]
  },
  {
   "cell_type": "code",
   "execution_count": 6,
   "id": "e3c03fcd",
   "metadata": {},
   "outputs": [
    {
     "name": "stdout",
     "output_type": "stream",
     "text": [
      "   id события         ФИО участника события 1          ФИО участника события 2\n",
      "0         189  Галчевская Карина Владимировна  Белоновская Анастасия Семеновна\n",
      "1         206         Офицеров Олег Романович        Сапожник Борис Валерьевич\n",
      "2         445     Жандарова Лариса Германовна       Чемодуров Дамир Русланович\n",
      "3         503          Масимова Яна Дамировна   Мингажетдинов Рамиль Семенович\n",
      "4         571       Мухтарова Алена Яковлевна      Щербатенко Ольга Робертовна\n"
     ]
    }
   ],
   "source": [
    "url='https://drive.google.com/file/d/1svO6qyERYRzDimI_WRbwPDPOIWhCrfRT/view?usp=sharing'\n",
    "file_id = url.split('/')[-2]\n",
    "dwn_url='https://drive.google.com/uc?export=download&id=' + file_id\n",
    "response = requests.get(dwn_url)\n",
    "content = response.content.decode('utf-8')\n",
    "csv_raw = StringIO(content)\n",
    "df = pd.read_csv(csv_raw, sep=';')\n",
    "print(df.head())"
   ]
  },
  {
   "cell_type": "markdown",
   "id": "a578e118",
   "metadata": {},
   "source": [
    "Изменим названия колонок для более удобного обращения к ним.\n",
    "Конвертируем датафрейм в словарь для загрузки в neo4j."
   ]
  },
  {
   "cell_type": "code",
   "execution_count": 7,
   "id": "6194fc5a",
   "metadata": {},
   "outputs": [],
   "source": [
    "df = df.rename(columns={'id события': 'id', 'ФИО участника события 1': 'name1', 'ФИО участника события 2': 'name2'})\n",
    "data = df.to_dict('records')"
   ]
  },
  {
   "cell_type": "markdown",
   "id": "39455143",
   "metadata": {},
   "source": [
    "Подключение к neo4j:"
   ]
  },
  {
   "cell_type": "code",
   "execution_count": 8,
   "id": "87eca50e",
   "metadata": {},
   "outputs": [],
   "source": [
    "uri = \"neo4j+s://0e2eaff8.databases.neo4j.io\"\n",
    "user = \"neo4j\"\n",
    "password = \"bHhlshCQoJYigbWabFu26fwmLHtDG2GRDIbEyP60GJM\"\n",
    "graph = Graph(uri, auth=(user, password))\n",
    "driver = GraphDatabase.driver(uri, auth=(user, password))\n",
    "session = driver.session()"
   ]
  },
  {
   "cell_type": "markdown",
   "id": "3b42edb7",
   "metadata": {},
   "source": [
    "Загрузка датафрейма в neo4j:"
   ]
  },
  {
   "cell_type": "code",
   "execution_count": 9,
   "id": "b04011f6",
   "metadata": {},
   "outputs": [],
   "source": [
    "data_ = data.copy()"
   ]
  },
  {
   "cell_type": "code",
   "execution_count": 10,
   "id": "415792ce",
   "metadata": {},
   "outputs": [],
   "source": [
    "with driver.session() as session:\n",
    "    query = \"\"\"\n",
    "        UNWIND $data_ AS row\n",
    "        MERGE (n1:Person {name: row.name1})\n",
    "        MERGE (n2:Person {name: row.name2})\n",
    "        MERGE (n1)-[r:RELATIONSHIP {id: row.id}]-(n2)\n",
    "            \"\"\"\n",
    "    session.run(query, data_=data_)"
   ]
  },
  {
   "cell_type": "markdown",
   "id": "e0080ffb",
   "metadata": {},
   "source": [
    "Датафрейм загружен, далее реализуем несколько запросов к нему:"
   ]
  },
  {
   "cell_type": "markdown",
   "id": "63a1ad0a",
   "metadata": {},
   "source": [
    "Запрос №1 выведет первые 20 узлов имеющих наиболшее количество связей"
   ]
  },
  {
   "cell_type": "code",
   "execution_count": 11,
   "id": "4cf1d147",
   "metadata": {},
   "outputs": [
    {
     "data": {
      "text/plain": [
       "[{'n': Node('Person', name='Ахромеева Алина Ивановна'), 'connections': 50},\n",
       " {'n': Node('Person', name='Башнина Антонина Глебовна'), 'connections': 14},\n",
       " {'n': Node('Person', name='Медведева Дарья Алексеевна'), 'connections': 6},\n",
       " {'n': Node('Person', name='Зимнухова Карина Даниловна'), 'connections': 5},\n",
       " {'n': Node('Person', name='Диомидов Игорь Ильдарович'), 'connections': 5},\n",
       " {'n': Node('Person', name='Шолохов Игорь Робертович'), 'connections': 4},\n",
       " {'n': Node('Person', name='Двигубская Валентина Геннадьевна'),\n",
       "  'connections': 3},\n",
       " {'n': Node('Person', name='Пафомова Кира Вадимовна'), 'connections': 3},\n",
       " {'n': Node('Person', name='Ивашев Вячеслав Игоревич'), 'connections': 2},\n",
       " {'n': Node('Person', name='Даниленко Владимир Семенович'), 'connections': 2},\n",
       " {'n': Node('Person', name='Анихнова Тамара Руслановна'), 'connections': 2},\n",
       " {'n': Node('Person', name='Майлина Гульнара Ивановна'), 'connections': 2},\n",
       " {'n': Node('Person', name='Нагайцева Анжелика Яновна'), 'connections': 2},\n",
       " {'n': Node('Person', name='Недовесков Владимир Иванович'), 'connections': 2},\n",
       " {'n': Node('Person', name='Радионова Тамара Ярославовна'), 'connections': 2}]"
      ]
     },
     "execution_count": 11,
     "metadata": {},
     "output_type": "execute_result"
    }
   ],
   "source": [
    "query = \"\"\"\n",
    "    MATCH (n)\n",
    "    RETURN n, size([(n)--() | 1]) AS connections\n",
    "    ORDER BY connections DESC\n",
    "    LIMIT 15\n",
    "        \"\"\"\n",
    "graph.run(query).data()"
   ]
  },
  {
   "cell_type": "code",
   "execution_count": 12,
   "id": "4241a9a4",
   "metadata": {},
   "outputs": [
    {
     "data": {
      "text/plain": [
       "9872"
      ]
     },
     "execution_count": 12,
     "metadata": {},
     "output_type": "execute_result"
    }
   ],
   "source": [
    "query = \"\"\"\n",
    "    MATCH (n:Person)\n",
    "    WHERE size([(n)--(m) | 1]) <= 1\n",
    "    RETURN n\n",
    "        \"\"\"\n",
    "len(graph.run(query).data())"
   ]
  },
  {
   "cell_type": "markdown",
   "id": "56b007e3",
   "metadata": {},
   "source": [
    "Абсолютное большинство узлов-фио имеет лишь одну связь.\n",
    "Однако первично просмотрев датафрейм, мы не увидели того, что некоторые имена встречаются более одного раза.\n",
    "Проверим это в Pandas."
   ]
  },
  {
   "cell_type": "code",
   "execution_count": 13,
   "id": "b5b485a0",
   "metadata": {},
   "outputs": [
    {
     "data": {
      "text/plain": [
       "False"
      ]
     },
     "execution_count": 13,
     "metadata": {},
     "output_type": "execute_result"
    }
   ],
   "source": [
    "df.name1.count() == df.name1.nunique()"
   ]
  },
  {
   "cell_type": "code",
   "execution_count": 14,
   "id": "61f9fd95",
   "metadata": {},
   "outputs": [
    {
     "data": {
      "text/plain": [
       "False"
      ]
     },
     "execution_count": 14,
     "metadata": {},
     "output_type": "execute_result"
    }
   ],
   "source": [
    "df.name2.count() == df.name2.nunique()"
   ]
  },
  {
   "cell_type": "code",
   "execution_count": 15,
   "id": "d8b6f9d5",
   "metadata": {},
   "outputs": [
    {
     "data": {
      "text/plain": [
       "Ахромеева Алина Ивановна           49\n",
       "Башнина Антонина Глебовна          14\n",
       "Диомидов Игорь Ильдарович           5\n",
       "Зимнухова Карина Даниловна          4\n",
       "Пафомова Кира Вадимовна             2\n",
       "Шолохов Игорь Робертович            2\n",
       "Думин Максим Русланович             1\n",
       "Барахнин Дамир Робертович           1\n",
       "Минулин Валентин Юрьевич            1\n",
       "Хорошихина Оксана Станиславовна     1\n",
       "Name: name1, dtype: int64"
      ]
     },
     "execution_count": 15,
     "metadata": {},
     "output_type": "execute_result"
    }
   ],
   "source": [
    "df.name1.value_counts().head(10)"
   ]
  },
  {
   "cell_type": "code",
   "execution_count": 16,
   "id": "2302428f",
   "metadata": {},
   "outputs": [
    {
     "data": {
      "text/plain": [
       "Медведева Дарья Алексеевна          5\n",
       "Двигубская Валентина Геннадьевна    2\n",
       "Шолохов Игорь Робертович            2\n",
       "Белоновская Анастасия Семеновна     1\n",
       "Шлякова Маргарита Алексеевна        1\n",
       "Юрлов Геннадий Рамилевич            1\n",
       "Смиренский Ян Рамилевич             1\n",
       "Чарыев Ефим Валентинович            1\n",
       "Карюк Римма Робертовна              1\n",
       "Сергеенков Альберт Эдуардович       1\n",
       "Name: name2, dtype: int64"
      ]
     },
     "execution_count": 16,
     "metadata": {},
     "output_type": "execute_result"
    }
   ],
   "source": [
    "df.name2.value_counts().head(10)"
   ]
  },
  {
   "cell_type": "markdown",
   "id": "a9df7d0e",
   "metadata": {},
   "source": [
    "Так и есть, небольшое количество имён встречается более одного раза."
   ]
  },
  {
   "cell_type": "markdown",
   "id": "d4462b20",
   "metadata": {},
   "source": [
    "Визуализируем несколько узлов"
   ]
  },
  {
   "cell_type": "code",
   "execution_count": 18,
   "id": "e63c9a7a",
   "metadata": {},
   "outputs": [
    {
     "data": {
      "image/png": "[encoded data removed]",
      "text/plain": [
       "<Figure size 432x288 with 1 Axes>"
      ]
     },
     "metadata": {},
     "output_type": "display_data"
    }
   ],
   "source": [
    "G = nx.Graph()\n",
    "result = graph.run(\"\"\"\n",
    "    MATCH (n)-[r]-(p)\n",
    "    RETURN n,r,p       \n",
    "    LIMIT 10\n",
    "                   \"\"\").data()\n",
    "for record in result:\n",
    "     n = record[\"n\"]\n",
    "     r = record[\"r\"]\n",
    "     p = record[\"p\"]     \n",
    "     G.add_edge(n.identity, p.identity)\n",
    "nx.draw(G, with_labels=True)\n",
    "plt.show()"
   ]
  },
  {
   "cell_type": "markdown",
   "id": "7794e151",
   "metadata": {},
   "source": [
    "Визуально мы можем увидеть, что большинство графов выглядят как два связанных между собой узла"
   ]
  },
  {
   "cell_type": "code",
   "execution_count": 19,
   "id": "b041b768",
   "metadata": {},
   "outputs": [
    {
     "data": {
      "text/plain": [
       "[{'count(n)': 9899}]"
      ]
     },
     "execution_count": 19,
     "metadata": {},
     "output_type": "execute_result"
    }
   ],
   "source": [
    "# Все уникальные узлы (количество)\n",
    "query = \"\"\"\n",
    "    MATCH (n)\n",
    "    RETURN count(n)\n",
    "        \"\"\"\n",
    "graph.run(query).data()"
   ]
  },
  {
   "cell_type": "code",
   "execution_count": 20,
   "id": "9a6fddc6",
   "metadata": {},
   "outputs": [
    {
     "data": {
      "text/plain": [
       "[{'count(n)': 8}]"
      ]
     },
     "execution_count": 20,
     "metadata": {},
     "output_type": "execute_result"
    }
   ],
   "source": [
    "# Уникальные узлы с количеством связей более 2-х (количество)\n",
    "query = \"\"\"\n",
    "    MATCH (n)\n",
    "    WHERE size([(n)--() | 1]) > 2\n",
    "    RETURN count(n)\n",
    "        \"\"\"\n",
    "graph.run(query).data()"
   ]
  },
  {
   "cell_type": "code",
   "execution_count": 21,
   "id": "2d3c467e",
   "metadata": {},
   "outputs": [
    {
     "data": {
      "text/plain": [
       "[{'count(n)': 19}]"
      ]
     },
     "execution_count": 21,
     "metadata": {},
     "output_type": "execute_result"
    }
   ],
   "source": [
    "# Уникальные события с количеством связей равным 2-м (количество)\n",
    "query = \"\"\"\n",
    "    MATCH (n)\n",
    "    WHERE size([(n)--() | 1]) = 2\n",
    "    RETURN count(n)\n",
    "        \"\"\"\n",
    "graph.run(query).data()"
   ]
  },
  {
   "cell_type": "code",
   "execution_count": 22,
   "id": "a2b3879d",
   "metadata": {},
   "outputs": [
    {
     "data": {
      "text/plain": [
       "9872"
      ]
     },
     "execution_count": 22,
     "metadata": {},
     "output_type": "execute_result"
    }
   ],
   "source": [
    "# Уникальные узлы с количеством связей равным 1-му (количество)\n",
    "query = \"\"\"\n",
    "    MATCH (n)\n",
    "    WHERE size([(n)--() | 1]) = 1\n",
    "    RETURN n\n",
    "        \"\"\"\n",
    "len(graph.run(query).data())"
   ]
  },
  {
   "cell_type": "markdown",
   "id": "7d0749cc",
   "metadata": {},
   "source": [
    "Изучим персон, имеющих большое количество связей\n",
    "\n",
    "Посмотрим на первые и последние 10 узлов по количеству связей"
   ]
  },
  {
   "cell_type": "code",
   "execution_count": 23,
   "id": "d878e10f",
   "metadata": {},
   "outputs": [
    {
     "data": {
      "text/plain": [
       "[{'n': Node('Person', name='Ахромеева Алина Ивановна'), 'connections': 50},\n",
       " {'n': Node('Person', name='Башнина Антонина Глебовна'), 'connections': 14},\n",
       " {'n': Node('Person', name='Медведева Дарья Алексеевна'), 'connections': 6},\n",
       " {'n': Node('Person', name='Диомидов Игорь Ильдарович'), 'connections': 5},\n",
       " {'n': Node('Person', name='Зимнухова Карина Даниловна'), 'connections': 5},\n",
       " {'n': Node('Person', name='Шолохов Игорь Робертович'), 'connections': 4},\n",
       " {'n': Node('Person', name='Пафомова Кира Вадимовна'), 'connections': 3},\n",
       " {'n': Node('Person', name='Двигубская Валентина Геннадьевна'),\n",
       "  'connections': 3},\n",
       " {'n': Node('Person', name='Даниленко Владимир Семенович'), 'connections': 2},\n",
       " {'n': Node('Person', name='Майлина Гульнара Ивановна'), 'connections': 2}]"
      ]
     },
     "execution_count": 23,
     "metadata": {},
     "output_type": "execute_result"
    }
   ],
   "source": [
    "query = \"\"\"\n",
    "    MATCH (n:Person)\n",
    "    RETURN n, size([(n)--() | 1]) AS connections\n",
    "    ORDER BY connections DESC\n",
    "    LIMIT 10\n",
    "        \"\"\"\n",
    "restop10d = graph.run(query).data()\n",
    "restop10d"
   ]
  },
  {
   "cell_type": "code",
   "execution_count": 24,
   "id": "ec148583",
   "metadata": {},
   "outputs": [
    {
     "data": {
      "text/plain": [
       "[{'n': Node('Person', name='Офицеров Олег Романович'), 'connections': 1},\n",
       " {'n': Node('Person', name='Жандарова Лариса Германовна'), 'connections': 1},\n",
       " {'n': Node('Person', name='Масимова Яна Дамировна'), 'connections': 1},\n",
       " {'n': Node('Person', name='Мухтарова Алена Яковлевна'), 'connections': 1},\n",
       " {'n': Node('Person', name='Русских Кира Константиновна'), 'connections': 1},\n",
       " {'n': Node('Person', name='Федонкина Кристина Маратовна'), 'connections': 1},\n",
       " {'n': Node('Person', name='Чернолусская Екатерина Марселевна'),\n",
       "  'connections': 1},\n",
       " {'n': Node('Person', name='Оранский Владимир Артурович'), 'connections': 1},\n",
       " {'n': Node('Person', name='Ардатов Андрей Анатольевич'), 'connections': 1},\n",
       " {'n': Node('Person', name='Галчевская Карина Владимировна'),\n",
       "  'connections': 1}]"
      ]
     },
     "execution_count": 24,
     "metadata": {},
     "output_type": "execute_result"
    }
   ],
   "source": [
    "query = \"\"\"\n",
    "    MATCH (n:Person)\n",
    "    RETURN n, size([(n)--() | 1]) AS connections\n",
    "    ORDER BY connections \n",
    "    LIMIT 10\n",
    "        \"\"\"\n",
    "graph.run(query).data()"
   ]
  },
  {
   "cell_type": "markdown",
   "id": "d519e641",
   "metadata": {},
   "source": [
    "Визуально представим узлы, отличающиеся большим количеством связей"
   ]
  },
  {
   "cell_type": "code",
   "execution_count": 25,
   "id": "964683be",
   "metadata": {},
   "outputs": [],
   "source": [
    "G = nx.Graph()\n",
    "\n",
    "result = graph.run(\"\"\"\n",
    "    MATCH (n:Person)-[r]-(p)\n",
    "    WHERE size([(n)--() | 1]) > 4\n",
    "    RETURN n,r,p\n",
    "                   \"\"\").data()"
   ]
  },
  {
   "cell_type": "code",
   "execution_count": 26,
   "id": "81ff9978",
   "metadata": {
    "scrolled": true
   },
   "outputs": [
    {
     "data": {
      "image/png": "[encoded data removed]",
      "text/plain": [
       "<Figure size 432x288 with 1 Axes>"
      ]
     },
     "metadata": {},
     "output_type": "display_data"
    }
   ],
   "source": [
    "for record in result:\n",
    "     n = record[\"n\"]\n",
    "     r = record[\"r\"]\n",
    "     p = record[\"p\"]\n",
    "     \n",
    "     G.add_edge(n.identity, p.identity)\n",
    "\n",
    "pos = nx.spring_layout(G, k=0.2, iterations=50)\n",
    "\n",
    "nx.draw_networkx_nodes(G, pos, node_color='lightblue', node_size=400)\n",
    "nx.draw_networkx_edges(G, pos, edge_color='grey') \n",
    "nx.draw_networkx_labels(G, pos, font_size=7, font_family='sans-serif')\n",
    "\n",
    "plt.axis('off')\n",
    "plt.show()"
   ]
  },
  {
   "cell_type": "markdown",
   "id": "6dd451b1",
   "metadata": {},
   "source": [
    "Можем заметить, что эти визуализация связей этих людей сильно отличаются от того, что мы видели ранее."
   ]
  },
  {
   "cell_type": "markdown",
   "id": "8aaebaf7",
   "metadata": {},
   "source": [
    "Поподробнее изучим человека с 50-ю связями."
   ]
  },
  {
   "cell_type": "code",
   "execution_count": 32,
   "id": "c0b807ca",
   "metadata": {},
   "outputs": [
    {
     "data": {
      "text/plain": [
       "50"
      ]
     },
     "execution_count": 32,
     "metadata": {},
     "output_type": "execute_result"
    }
   ],
   "source": [
    "query = \"\"\"\n",
    "    MATCH (n:Person {name: 'Ахромеева Алина Ивановна'})--(p)\n",
    "    RETURN p\n",
    "        \"\"\"\n",
    "results50 = graph.run(query)\n",
    "con1n = graph.run(query).data()\n",
    "len(graph.run(query).data())"
   ]
  },
  {
   "cell_type": "markdown",
   "id": "4c475de4",
   "metadata": {},
   "source": [
    "Этот человек имеет связи с 50-ю людьми. Этот граф можно назвать сложным сообществом.\n",
    "\n",
    "Посмотрим на него визуально:"
   ]
  },
  {
   "cell_type": "code",
   "execution_count": 33,
   "id": "09730e86",
   "metadata": {},
   "outputs": [
    {
     "data": {
      "image/png": "[encoded data removed]",
      "text/plain": [
       "<Figure size 432x288 with 1 Axes>"
      ]
     },
     "metadata": {},
     "output_type": "display_data"
    }
   ],
   "source": [
    "G = nx.Graph()\n",
    "\n",
    "result50 = graph.run(\"\"\"\n",
    "    MATCH (n:Person {name: 'Ахромеева Алина Ивановна'})--(p)\n",
    "    RETURN n, p\n",
    "\"\"\").data()\n",
    "\n",
    "for record in result50:\n",
    "    n = record['n']\n",
    "    p = record['p']\n",
    "    G.add_node(n['name'])\n",
    "    G.add_node(p['name'])\n",
    "    G.add_edge(n['name'], p['name'])\n",
    "\n",
    "nx.draw(G, with_labels=True, font_size=7)\n",
    "plt.show()"
   ]
  },
  {
   "cell_type": "code",
   "execution_count": 34,
   "id": "631a0972",
   "metadata": {},
   "outputs": [
    {
     "data": {
      "text/plain": [
       "14"
      ]
     },
     "execution_count": 34,
     "metadata": {},
     "output_type": "execute_result"
    }
   ],
   "source": [
    "query = \"\"\"\n",
    "    MATCH (n:Person {name: 'Башнина Антонина Глебовна'})--(p)\n",
    "    RETURN p\n",
    "        \"\"\"\n",
    "con2n = graph.run(query).data()\n",
    "len(graph.run(query).data())"
   ]
  },
  {
   "cell_type": "markdown",
   "id": "e9b64e0b",
   "metadata": {},
   "source": [
    "Башнина А.Г. имеет связи с 14-ю узлами-людьми."
   ]
  },
  {
   "cell_type": "code",
   "execution_count": 35,
   "id": "43f8205f",
   "metadata": {},
   "outputs": [
    {
     "data": {
      "image/png": "[encoded data removed]",
      "text/plain": [
       "<Figure size 432x288 with 1 Axes>"
      ]
     },
     "metadata": {},
     "output_type": "display_data"
    }
   ],
   "source": [
    "G = nx.Graph()\n",
    "\n",
    "result50 = graph.run(\"\"\"\n",
    "    MATCH (n:Person {name: 'Башнина Антонина Глебовна'})--(p)\n",
    "    RETURN n, p\n",
    "\"\"\").data()\n",
    "\n",
    "for record in result50:\n",
    "    n = record['n']\n",
    "    p = record['p']\n",
    "    G.add_node(n['name'])\n",
    "    G.add_node(p['name'])\n",
    "    G.add_edge(n['name'], p['name'])\n",
    "\n",
    "nx.draw(G, with_labels=True, font_size=7)\n",
    "plt.show()"
   ]
  },
  {
   "cell_type": "markdown",
   "id": "f85a2642",
   "metadata": {},
   "source": [
    "Повторим это для остальных людей из топа"
   ]
  },
  {
   "cell_type": "code",
   "execution_count": 36,
   "id": "ee5856dd",
   "metadata": {},
   "outputs": [
    {
     "data": {
      "text/plain": [
       "6"
      ]
     },
     "execution_count": 36,
     "metadata": {},
     "output_type": "execute_result"
    }
   ],
   "source": [
    "query = \"\"\"\n",
    "    MATCH (n:Person {name: 'Медведева Дарья Алексеевна'})--(p)\n",
    "    RETURN p\n",
    "        \"\"\"\n",
    "con3n = graph.run(query).data()\n",
    "len(graph.run(query).data())"
   ]
  },
  {
   "cell_type": "code",
   "execution_count": 37,
   "id": "56fe22b9",
   "metadata": {},
   "outputs": [
    {
     "data": {
      "image/png": "[encoded data removed]",
      "text/plain": [
       "<Figure size 432x288 with 1 Axes>"
      ]
     },
     "metadata": {},
     "output_type": "display_data"
    }
   ],
   "source": [
    "G = nx.Graph()\n",
    "\n",
    "result50 = graph.run(\"\"\"\n",
    "    MATCH (n:Person {name: 'Медведева Дарья Алексеевна'})--(p)\n",
    "    RETURN n, p\n",
    "\"\"\").data()\n",
    "\n",
    "for record in result50:\n",
    "    n = record['n']\n",
    "    p = record['p']\n",
    "    G.add_node(n['name'])\n",
    "    G.add_node(p['name'])\n",
    "    G.add_edge(n['name'], p['name'])\n",
    "\n",
    "nx.draw(G, with_labels=True, font_size=7.5)\n",
    "plt.show()"
   ]
  },
  {
   "cell_type": "code",
   "execution_count": 39,
   "id": "dacf9421",
   "metadata": {},
   "outputs": [
    {
     "data": {
      "text/plain": [
       "5"
      ]
     },
     "execution_count": 39,
     "metadata": {},
     "output_type": "execute_result"
    }
   ],
   "source": [
    "query = \"\"\"\n",
    "    MATCH (n:Person {name: 'Зимнухова Карина Даниловна'})--(p)\n",
    "    RETURN p\n",
    "        \"\"\"\n",
    "con4n = graph.run(query).data()\n",
    "len(graph.run(query).data())"
   ]
  },
  {
   "cell_type": "code",
   "execution_count": 40,
   "id": "c0be3930",
   "metadata": {},
   "outputs": [
    {
     "data": {
      "text/plain": [
       "5"
      ]
     },
     "execution_count": 40,
     "metadata": {},
     "output_type": "execute_result"
    }
   ],
   "source": [
    "query = \"\"\"\n",
    "    MATCH (n:Person {name: 'Диомидов Игорь Ильдарович'})--(p)\n",
    "    RETURN p\n",
    "        \"\"\"\n",
    "con5n = graph.run(query).data()\n",
    "len(graph.run(query).data())"
   ]
  },
  {
   "cell_type": "code",
   "execution_count": null,
   "id": "5c0f90f0",
   "metadata": {},
   "outputs": [],
   "source": []
  },
  {
   "cell_type": "markdown",
   "id": "2ccca50b",
   "metadata": {},
   "source": [
    "Узнаем, есть ли связи в этих сообществах одинаковые узлы"
   ]
  },
  {
   "cell_type": "code",
   "execution_count": 41,
   "id": "74f67296",
   "metadata": {},
   "outputs": [
    {
     "name": "stdout",
     "output_type": "stream",
     "text": [
      "Узел #1 и узел #2 имеют следующие общие связанные узлы: {}\n",
      "Узел #1 и узел #3 имеют следующие общие связанные узлы: {}\n",
      "Узел #1 и узел #4 имеют следующие общие связанные узлы: {}\n",
      "Узел #1 и узел #5 имеют следующие общие связанные узлы: {}\n",
      "Узел #2 и узел #3 имеют следующие общие связанные узлы: {}\n",
      "Узел #2 и узел #4 имеют следующие общие связанные узлы: {}\n",
      "Узел #2 и узел #5 имеют следующие общие связанные узлы: {}\n",
      "Узел #3 и узел #4 имеют следующие общие связанные узлы: {}\n",
      "Узел #3 и узел #5 имеют следующие общие связанные узлы: {}\n",
      "Узел #4 и узел #5 имеют следующие общие связанные узлы: {}\n"
     ]
    }
   ],
   "source": [
    "lists = [con1n, con2n, con3n, con4n, con5n]\n",
    "\n",
    "list_tuples = [list(map(tuple, map(dict.items, lst))) for lst in lists]\n",
    "\n",
    "intersections = []\n",
    "for i in range(len(lists)):\n",
    "    for j in range(i+1, len(lists)):\n",
    "        intersection = set(list_tuples[i]).intersection(set(list_tuples[j]))\n",
    "        intersection_dict = dict(intersection)\n",
    "        intersections.append(intersection_dict)\n",
    "        print(f'Узел #{i+1} и узел #{j+1} имеют следующие общие связанные узлы: {intersection_dict}')"
   ]
  },
  {
   "cell_type": "markdown",
   "id": "eca60d3b",
   "metadata": {},
   "source": [
    "Общие узлы отсутствуют у всех пар.\n",
    "\n",
    "Следовательно эти сообщества являются отдельными, независимыми и несвязанными."
   ]
  },
  {
   "cell_type": "markdown",
   "id": "edc44d07",
   "metadata": {},
   "source": [
    "Произведём быструю проверку остальных узлов, имеюших более одной связи"
   ]
  },
  {
   "cell_type": "code",
   "execution_count": 42,
   "id": "49c0424c",
   "metadata": {},
   "outputs": [
    {
     "data": {
      "text/plain": [
       "84"
      ]
     },
     "execution_count": 42,
     "metadata": {},
     "output_type": "execute_result"
    }
   ],
   "source": [
    "# Количесто узлов, связанных с узлами, имеющими более трёх связей\n",
    "query = \"\"\"\n",
    "    MATCH (n:Person)--(p)\n",
    "    WHERE size([(n)--() | 1]) > 3\n",
    "    RETURN p \n",
    "        \"\"\"\n",
    "res3 = graph.run(query).data()\n",
    "len(res3)"
   ]
  },
  {
   "cell_type": "code",
   "execution_count": 43,
   "id": "daf1e589",
   "metadata": {},
   "outputs": [
    {
     "data": {
      "text/plain": [
       "84"
      ]
     },
     "execution_count": 43,
     "metadata": {},
     "output_type": "execute_result"
    }
   ],
   "source": [
    "# Тот же самый показатель, но без дубликатов\n",
    "query = \"\"\"\n",
    "    MATCH (n:Person)--(p)\n",
    "    WHERE size([(n)--() | 1]) > 3\n",
    "    RETURN DISTINCT p \n",
    "        \"\"\"\n",
    "res3d = graph.run(query).data()\n",
    "len(res3d)"
   ]
  },
  {
   "cell_type": "markdown",
   "id": "386d37e7",
   "metadata": {},
   "source": [
    "Следовательно здесь пересечений нет"
   ]
  },
  {
   "cell_type": "code",
   "execution_count": 44,
   "id": "65ec4087",
   "metadata": {},
   "outputs": [
    {
     "data": {
      "text/plain": [
       "6"
      ]
     },
     "execution_count": 44,
     "metadata": {},
     "output_type": "execute_result"
    }
   ],
   "source": [
    "# Количесто узлов, связанных с узлами, имеющими три связей\n",
    "query = \"\"\"\n",
    "    MATCH (n:Person)--(p)\n",
    "    WHERE size([(n)--() | 1]) = 3\n",
    "    RETURN p \n",
    "        \"\"\"\n",
    "res3e = graph.run(query).data()\n",
    "len(res3e)"
   ]
  },
  {
   "cell_type": "code",
   "execution_count": 45,
   "id": "a9c85ce3",
   "metadata": {},
   "outputs": [
    {
     "data": {
      "text/plain": [
       "5"
      ]
     },
     "execution_count": 45,
     "metadata": {},
     "output_type": "execute_result"
    }
   ],
   "source": [
    "# Тот же самый показатель, но без дубликатов\n",
    "query = \"\"\"\n",
    "    MATCH (n:Person)--(p)\n",
    "    WHERE size([(n)--() | 1]) = 3\n",
    "    RETURN DISTINCT p \n",
    "        \"\"\"\n",
    "res3ed = graph.run(query).data()\n",
    "len(res3ed)"
   ]
  },
  {
   "cell_type": "markdown",
   "id": "d14b0f88",
   "metadata": {},
   "source": [
    "Итак, кол-во уникальных записей не тождественно всем записям, значит есть некоторое пересечение"
   ]
  },
  {
   "cell_type": "code",
   "execution_count": 46,
   "id": "b71804a4",
   "metadata": {},
   "outputs": [
    {
     "data": {
      "text/plain": [
       "38"
      ]
     },
     "execution_count": 46,
     "metadata": {},
     "output_type": "execute_result"
    }
   ],
   "source": [
    "# Количесто узлов, связанных с узлами, имеющими три связей\n",
    "query = \"\"\"\n",
    "    MATCH (n:Person)--(p)\n",
    "    WHERE size([(n)--() | 1]) = 2\n",
    "    RETURN p \n",
    "        \"\"\"\n",
    "res2e = graph.run(query).data()\n",
    "len(res2e)"
   ]
  },
  {
   "cell_type": "code",
   "execution_count": 47,
   "id": "7c0f6c17",
   "metadata": {},
   "outputs": [
    {
     "data": {
      "text/plain": [
       "24"
      ]
     },
     "execution_count": 47,
     "metadata": {},
     "output_type": "execute_result"
    }
   ],
   "source": [
    "# Тот же самый показатель, но без дубликатов\n",
    "query = \"\"\"\n",
    "    MATCH (n:Person)--(p)\n",
    "    WHERE size([(n)--() | 1]) = 2\n",
    "    RETURN DISTINCT p \n",
    "        \"\"\"\n",
    "res2ed = graph.run(query).data()\n",
    "len(res2ed)"
   ]
  },
  {
   "cell_type": "markdown",
   "id": "23fcc14e",
   "metadata": {},
   "source": [
    "Узнаем, какие узлы связаны с другими узлами дважды"
   ]
  },
  {
   "cell_type": "code",
   "execution_count": 48,
   "id": "07c0f35f",
   "metadata": {},
   "outputs": [
    {
     "data": {
      "text/plain": [
       "[{'n1': Node('Person', name='Шолохов Игорь Робертович'),\n",
       "  'n2': Node('Person', name='Ляуданский Валентин Владиславович'),\n",
       "  'commonNodes': [Node('Person', name='Торгунаков Роман Кириллович'),\n",
       "   Node('Person', name='Пафомова Кира Вадимовна')]},\n",
       " {'n1': Node('Person', name='Пафомова Кира Вадимовна'),\n",
       "  'n2': Node('Person', name='Торгунаков Роман Кириллович'),\n",
       "  'commonNodes': [Node('Person', name='Ляуданский Валентин Владиславович'),\n",
       "   Node('Person', name='Шолохов Игорь Робертович')]}]"
      ]
     },
     "execution_count": 48,
     "metadata": {},
     "output_type": "execute_result"
    }
   ],
   "source": [
    "query = \"\"\"\n",
    "    MATCH (n1)-[:RELATIONSHIP]-(p1)-[:RELATIONSHIP]-(n2)-[:RELATIONSHIP]-(p2)-[:RELATIONSHIP]-(n1)\n",
    "    WHERE id(n1) < id(n2)\n",
    "    RETURN n1, n2, collect(p1) AS commonNodes\n",
    "        \"\"\"\n",
    "graph.run(query).data()"
   ]
  },
  {
   "cell_type": "markdown",
   "id": "582daa9c",
   "metadata": {},
   "source": [
    "Вычислим некоторые меры центральности"
   ]
  },
  {
   "cell_type": "code",
   "execution_count": 49,
   "id": "d15b740a",
   "metadata": {},
   "outputs": [],
   "source": [
    "import networkx as nx"
   ]
  },
  {
   "cell_type": "code",
   "execution_count": 50,
   "id": "4a0a3865",
   "metadata": {},
   "outputs": [
    {
     "data": {
      "text/html": [
       "<div>\n",
       "<style scoped>\n",
       "    .dataframe tbody tr th:only-of-type {\n",
       "        vertical-align: middle;\n",
       "    }\n",
       "\n",
       "    .dataframe tbody tr th {\n",
       "        vertical-align: top;\n",
       "    }\n",
       "\n",
       "    .dataframe thead th {\n",
       "        text-align: right;\n",
       "    }\n",
       "</style>\n",
       "<table border=\"1\" class=\"dataframe\">\n",
       "  <thead>\n",
       "    <tr style=\"text-align: right;\">\n",
       "      <th></th>\n",
       "      <th>id</th>\n",
       "      <th>name1</th>\n",
       "      <th>name2</th>\n",
       "    </tr>\n",
       "  </thead>\n",
       "  <tbody>\n",
       "    <tr>\n",
       "      <th>0</th>\n",
       "      <td>189</td>\n",
       "      <td>Галчевская Карина Владимировна</td>\n",
       "      <td>Белоновская Анастасия Семеновна</td>\n",
       "    </tr>\n",
       "    <tr>\n",
       "      <th>1</th>\n",
       "      <td>206</td>\n",
       "      <td>Офицеров Олег Романович</td>\n",
       "      <td>Сапожник Борис Валерьевич</td>\n",
       "    </tr>\n",
       "    <tr>\n",
       "      <th>2</th>\n",
       "      <td>445</td>\n",
       "      <td>Жандарова Лариса Германовна</td>\n",
       "      <td>Чемодуров Дамир Русланович</td>\n",
       "    </tr>\n",
       "    <tr>\n",
       "      <th>3</th>\n",
       "      <td>503</td>\n",
       "      <td>Масимова Яна Дамировна</td>\n",
       "      <td>Мингажетдинов Рамиль Семенович</td>\n",
       "    </tr>\n",
       "    <tr>\n",
       "      <th>4</th>\n",
       "      <td>571</td>\n",
       "      <td>Мухтарова Алена Яковлевна</td>\n",
       "      <td>Щербатенко Ольга Робертовна</td>\n",
       "    </tr>\n",
       "    <tr>\n",
       "      <th>...</th>\n",
       "      <td>...</td>\n",
       "      <td>...</td>\n",
       "      <td>...</td>\n",
       "    </tr>\n",
       "    <tr>\n",
       "      <th>4995</th>\n",
       "      <td>999333</td>\n",
       "      <td>Осташов Владимир Данилович</td>\n",
       "      <td>Чалов Илья Владимирович</td>\n",
       "    </tr>\n",
       "    <tr>\n",
       "      <th>4996</th>\n",
       "      <td>999360</td>\n",
       "      <td>Гандыбина Любовь Александровна</td>\n",
       "      <td>Мерлин Илья Юрьевич</td>\n",
       "    </tr>\n",
       "    <tr>\n",
       "      <th>4997</th>\n",
       "      <td>999403</td>\n",
       "      <td>Востоков Виктор Ильдарович</td>\n",
       "      <td>Аликас Никита Андреевич</td>\n",
       "    </tr>\n",
       "    <tr>\n",
       "      <th>4998</th>\n",
       "      <td>999405</td>\n",
       "      <td>Огарева Людмила Ильдаровна</td>\n",
       "      <td>Нагайцева Алина Степановна</td>\n",
       "    </tr>\n",
       "    <tr>\n",
       "      <th>4999</th>\n",
       "      <td>999878</td>\n",
       "      <td>Ряполовский Георгий Петрович</td>\n",
       "      <td>Жилейкин Виктор Павлович</td>\n",
       "    </tr>\n",
       "  </tbody>\n",
       "</table>\n",
       "<p>5000 rows × 3 columns</p>\n",
       "</div>"
      ],
      "text/plain": [
       "          id                           name1                            name2\n",
       "0        189  Галчевская Карина Владимировна  Белоновская Анастасия Семеновна\n",
       "1        206         Офицеров Олег Романович        Сапожник Борис Валерьевич\n",
       "2        445     Жандарова Лариса Германовна       Чемодуров Дамир Русланович\n",
       "3        503          Масимова Яна Дамировна   Мингажетдинов Рамиль Семенович\n",
       "4        571       Мухтарова Алена Яковлевна      Щербатенко Ольга Робертовна\n",
       "...      ...                             ...                              ...\n",
       "4995  999333      Осташов Владимир Данилович          Чалов Илья Владимирович\n",
       "4996  999360  Гандыбина Любовь Александровна              Мерлин Илья Юрьевич\n",
       "4997  999403      Востоков Виктор Ильдарович          Аликас Никита Андреевич\n",
       "4998  999405      Огарева Людмила Ильдаровна       Нагайцева Алина Степановна\n",
       "4999  999878    Ряполовский Георгий Петрович         Жилейкин Виктор Павлович\n",
       "\n",
       "[5000 rows x 3 columns]"
      ]
     },
     "execution_count": 50,
     "metadata": {},
     "output_type": "execute_result"
    }
   ],
   "source": [
    "df"
   ]
  },
  {
   "cell_type": "markdown",
   "id": "0c53824e",
   "metadata": {},
   "source": [
    "Рассчитаем одну из мер центральности: центральность по степени."
   ]
  },
  {
   "cell_type": "code",
   "execution_count": 51,
   "id": "85fee133",
   "metadata": {
    "scrolled": true
   },
   "outputs": [],
   "source": [
    "G = nx.Graph()\n",
    "for index, row in df.iterrows():\n",
    "    G.add_edge(row['name1'], row['name2'], event=row['id'])\n",
    "degree_centrality = nx.degree_centrality(G)"
   ]
  },
  {
   "cell_type": "markdown",
   "id": "09598e30",
   "metadata": {},
   "source": [
    "Исходя из этой метрики узнаем, у кого самое высокое значение"
   ]
  },
  {
   "cell_type": "code",
   "execution_count": 52,
   "id": "59a1b14a",
   "metadata": {},
   "outputs": [
    {
     "data": {
      "text/plain": [
       "'Ахромеева Алина Ивановна'"
      ]
     },
     "execution_count": 52,
     "metadata": {},
     "output_type": "execute_result"
    }
   ],
   "source": [
    "list(degree_centrality.keys())[list(degree_centrality.values()).index(max(degree_centrality.values()))]"
   ]
  },
  {
   "cell_type": "markdown",
   "id": "6ac1186e",
   "metadata": {},
   "source": [
    "Изучим, наименьшие и наибольшие значения метрики"
   ]
  },
  {
   "cell_type": "code",
   "execution_count": 53,
   "id": "2365a20c",
   "metadata": {},
   "outputs": [
    {
     "data": {
      "text/plain": [
       "[0.005051525560719337,\n",
       " 0.0014144271570014143,\n",
       " 0.0006061830672863204,\n",
       " 0.0005051525560719338,\n",
       " 0.0005051525560719338,\n",
       " 0.00040412204485754696,\n",
       " 0.0003030915336431602,\n",
       " 0.0003030915336431602,\n",
       " 0.00020206102242877348,\n",
       " 0.00020206102242877348,\n",
       " 0.00020206102242877348,\n",
       " 0.00020206102242877348,\n",
       " 0.00020206102242877348,\n",
       " 0.00020206102242877348,\n",
       " 0.00020206102242877348]"
      ]
     },
     "execution_count": 53,
     "metadata": {},
     "output_type": "execute_result"
    }
   ],
   "source": [
    "sorted(degree_centrality.values(), reverse=True)[:15]"
   ]
  },
  {
   "cell_type": "code",
   "execution_count": 54,
   "id": "e1890f4f",
   "metadata": {},
   "outputs": [
    {
     "data": {
      "text/plain": [
       "[0.00010103051121438674,\n",
       " 0.00010103051121438674,\n",
       " 0.00010103051121438674,\n",
       " 0.00010103051121438674,\n",
       " 0.00010103051121438674,\n",
       " 0.00010103051121438674,\n",
       " 0.00010103051121438674,\n",
       " 0.00010103051121438674,\n",
       " 0.00010103051121438674,\n",
       " 0.00010103051121438674,\n",
       " 0.00010103051121438674,\n",
       " 0.00010103051121438674,\n",
       " 0.00010103051121438674,\n",
       " 0.00010103051121438674,\n",
       " 0.00010103051121438674]"
      ]
     },
     "execution_count": 54,
     "metadata": {},
     "output_type": "execute_result"
    }
   ],
   "source": [
    "sorted(degree_centrality.values(), reverse=True)[-15:]"
   ]
  },
  {
   "cell_type": "markdown",
   "id": "4c456b21",
   "metadata": {},
   "source": [
    "Взглянув на наибольшие и наименьшие значения меры центральности по степени, мы можем предположить, что почти все значения одинаковы и лишь меньшинство отличается.\n",
    "\n",
    "Проверим."
   ]
  },
  {
   "cell_type": "code",
   "execution_count": 55,
   "id": "0d4b46c7",
   "metadata": {},
   "outputs": [],
   "source": [
    "import collections"
   ]
  },
  {
   "cell_type": "code",
   "execution_count": 56,
   "id": "7e907aaf",
   "metadata": {},
   "outputs": [
    {
     "data": {
      "text/plain": [
       "Counter({0.00010103051121438674: 9872,\n",
       "         0.005051525560719337: 1,\n",
       "         0.0014144271570014143: 1,\n",
       "         0.0006061830672863204: 1,\n",
       "         0.0003030915336431602: 2,\n",
       "         0.00020206102242877348: 19,\n",
       "         0.0005051525560719338: 2,\n",
       "         0.00040412204485754696: 1})"
      ]
     },
     "execution_count": 56,
     "metadata": {},
     "output_type": "execute_result"
    }
   ],
   "source": [
    "collections.Counter(degree_centrality.values())"
   ]
  },
  {
   "cell_type": "markdown",
   "id": "6221f65f",
   "metadata": {},
   "source": [
    "Наше предположение подтвердилось."
   ]
  },
  {
   "cell_type": "markdown",
   "id": "17d87ebb",
   "metadata": {},
   "source": [
    "Рассчитаем центральность по собственному вектору, эта мера учитывает большее количество данных, поэтому, вероятно, мы получим более полезный результат."
   ]
  },
  {
   "cell_type": "code",
   "execution_count": 57,
   "id": "a2a7853e",
   "metadata": {},
   "outputs": [],
   "source": [
    "for index, row in df.iterrows():\n",
    "    G.add_edge(row['name1'], row['name2'], event=row['id'])\n",
    "eigenvector_centrality = nx.eigenvector_centrality(G)"
   ]
  },
  {
   "cell_type": "code",
   "execution_count": 58,
   "id": "f86fa708",
   "metadata": {},
   "outputs": [
    {
     "data": {
      "text/plain": [
       "'Ахромеева Алина Ивановна'"
      ]
     },
     "execution_count": 58,
     "metadata": {},
     "output_type": "execute_result"
    }
   ],
   "source": [
    "list(eigenvector_centrality.keys())[list(eigenvector_centrality.values()).index(max(eigenvector_centrality.values()))]"
   ]
  },
  {
   "cell_type": "markdown",
   "id": "4ab4f6cd",
   "metadata": {},
   "source": [
    "В случае с этой метрикой, самое высокое значение также имеет Ахромеева А.И.\n",
    "\n",
    "Следовательно, этот узел является самым важным и влиятельным в данной бд."
   ]
  },
  {
   "cell_type": "code",
   "execution_count": 59,
   "id": "877b7f6f",
   "metadata": {},
   "outputs": [
    {
     "data": {
      "text/plain": [
       "[0.7075373463769591,\n",
       " 0.09993907178685205,\n",
       " 0.09993907178685205,\n",
       " 0.09993907178685205,\n",
       " 0.09993907178685205,\n",
       " 0.09993907178685205,\n",
       " 0.09993907178685205,\n",
       " 0.09993907178685205,\n",
       " 0.09993907178685205,\n",
       " 0.09993907178685205,\n",
       " 0.09993907178685205,\n",
       " 0.09993907178685205,\n",
       " 0.09993907178685205,\n",
       " 0.09993907178685205,\n",
       " 0.09993907178685205]"
      ]
     },
     "execution_count": 59,
     "metadata": {},
     "output_type": "execute_result"
    }
   ],
   "source": [
    "sorted(eigenvector_centrality.values(), reverse=True)[:15]"
   ]
  },
  {
   "cell_type": "code",
   "execution_count": 60,
   "id": "c6ada620",
   "metadata": {},
   "outputs": [
    {
     "data": {
      "text/plain": [
       "[1.2475527207619724e-16,\n",
       " 1.2475527207619724e-16,\n",
       " 1.2475527207619724e-16,\n",
       " 1.2475527207619724e-16,\n",
       " 1.2475527207619724e-16,\n",
       " 1.2475527207619724e-16,\n",
       " 1.2475527207619724e-16,\n",
       " 1.2475527207619724e-16,\n",
       " 1.2475527207619724e-16,\n",
       " 1.2475527207619724e-16,\n",
       " 1.2475527207619724e-16,\n",
       " 1.2475527207619724e-16,\n",
       " 1.2475527207619724e-16,\n",
       " 1.2475527207619724e-16,\n",
       " 1.2475527207619724e-16]"
      ]
     },
     "execution_count": 60,
     "metadata": {},
     "output_type": "execute_result"
    }
   ],
   "source": [
    "sorted(eigenvector_centrality.values(), reverse=True)[-15:]"
   ]
  },
  {
   "cell_type": "markdown",
   "id": "b0d915de",
   "metadata": {},
   "source": [
    "Ситуация с этой мерой похожа на ту, что мы видели на предыдущем этапе."
   ]
  },
  {
   "cell_type": "code",
   "execution_count": 61,
   "id": "7a240aff",
   "metadata": {},
   "outputs": [
    {
     "data": {
      "text/plain": [
       "Counter({1.2475527207619724e-16: 9794,\n",
       "         0.7075373463769591: 1,\n",
       "         0.09993907178685205: 50,\n",
       "         6.973707596199351e-07: 1,\n",
       "         1.8637993229981112e-07: 14,\n",
       "         7.274944765066784e-11: 6,\n",
       "         1.781990258712493e-10: 1,\n",
       "         3.013934270411315e-10: 1,\n",
       "         2.0833427498170872e-10: 1,\n",
       "         8.311014201971948e-11: 2,\n",
       "         3.52416460225304e-11: 8,\n",
       "         3.1502163707650984e-12: 6,\n",
       "         3.87743370338239e-10: 1,\n",
       "         2.492803636003745e-10: 1,\n",
       "         5.5485947023920616e-11: 1,\n",
       "         7.075665040031119e-11: 2,\n",
       "         5.503155999136639e-11: 2,\n",
       "         1.2515772974232443e-10: 2,\n",
       "         2.101451184031284e-10: 1,\n",
       "         1.5078600731945607e-10: 1,\n",
       "         4.6670576329453154e-11: 1,\n",
       "         1.7638785570319173e-10: 1,\n",
       "         2.326017588478472e-10: 1})"
      ]
     },
     "execution_count": 61,
     "metadata": {},
     "output_type": "execute_result"
    }
   ],
   "source": [
    "collections.Counter(eigenvector_centrality.values())"
   ]
  },
  {
   "cell_type": "markdown",
   "id": "74963f1d",
   "metadata": {},
   "source": [
    "Здесь распределение величин слегка отличается, однако абсолютное большинство узлов имеют одно и то же значение."
   ]
  },
  {
   "cell_type": "markdown",
   "id": "b74e3e77",
   "metadata": {},
   "source": [
    "Rest API"
   ]
  },
  {
   "cell_type": "markdown",
   "id": "9edfbfc4",
   "metadata": {},
   "source": [
    "К сожалению ранее я никогда не работал с rest-сервисами. Запустить его ниже не получилось"
   ]
  },
  {
   "cell_type": "code",
   "execution_count": 62,
   "id": "de4b3ecb",
   "metadata": {},
   "outputs": [
    {
     "name": "stdout",
     "output_type": "stream",
     "text": [
      " * Serving Flask app \"__main__\" (lazy loading)\n",
      " * Environment: production\n",
      "\u001b[31m   WARNING: This is a development server. Do not use it in a production deployment.\u001b[0m\n",
      "\u001b[2m   Use a production WSGI server instead.\u001b[0m\n",
      " * Debug mode: on\n"
     ]
    },
    {
     "name": "stderr",
     "output_type": "stream",
     "text": [
      " * Restarting with watchdog (windowsapi)\n"
     ]
    },
    {
     "ename": "SystemExit",
     "evalue": "1",
     "output_type": "error",
     "traceback": [
      "An exception has occurred, use %tb to see the full traceback.\n",
      "\u001b[1;31mSystemExit\u001b[0m\u001b[1;31m:\u001b[0m 1\n"
     ]
    },
    {
     "name": "stderr",
     "output_type": "stream",
     "text": [
      "D:\\Programs\\Anaconda\\lib\\site-packages\\IPython\\core\\interactiveshell.py:3377: UserWarning: To exit: use 'exit', 'quit', or Ctrl-D.\n",
      "  warn(\"To exit: use 'exit', 'quit', or Ctrl-D.\", stacklevel=1)\n"
     ]
    }
   ],
   "source": [
    "from flask import Flask, request, Response\n",
    "from networkx.readwrite import graphml\n",
    "\n",
    "app = Flask(__name__)\n",
    "\n",
    "@app.route(\"/graphml\")\n",
    "def get_graphml():\n",
    "    name = request.args.get(\"name\")\n",
    "\n",
    "    # Get the person node with the given name\n",
    "    person_node = graph.nodes.match(\"Person\", name=name).first()\n",
    "\n",
    "    # Get all the nodes connected to the person_node by the event relationship\n",
    "    query = \"\"\"\n",
    "    MATCH (p:Person {name:$name})-[:event]->(e:Event)<-[:event]-(o:Person)\n",
    "    RETURN o, e.id\n",
    "    \"\"\"\n",
    "    result = graph.run(query, name=name).data()\n",
    "\n",
    "    # Create a NetworkX graph object and add the person node and the connected nodes\n",
    "    G = nx.Graph()\n",
    "    G.add_node(person_node[\"name\"])\n",
    "    for record in result:\n",
    "        node_name = record[\"o\"][\"name\"]\n",
    "        edge_id = record[\"e.id\"]\n",
    "        G.add_edge(person_node[\"name\"], node_name, event_id=edge_id)\n",
    "\n",
    "    # Convert the NetworkX graph to GraphML format\n",
    "    graphml_data = graphml.generate_graphml(G)\n",
    "\n",
    "    # Return the GraphML data as a response\n",
    "    response = Response(graphml_data, mimetype='text/xml')\n",
    "    response.headers.set('Content-Disposition', 'attachment', filename='graph.graphml')\n",
    "    return response\n",
    "\n",
    "if __name__ == '__main__':\n",
    "    app.run(debug=True)\n"
   ]
  },
  {
   "cell_type": "code",
   "execution_count": null,
   "id": "68f71d1d",
   "metadata": {},
   "outputs": [],
   "source": [
    "#SECOND TRY"
   ]
  },
  {
   "cell_type": "code",
   "execution_count": null,
   "id": "9ad30b19",
   "metadata": {},
   "outputs": [],
   "source": [
    "from neo4j import GraphDatabase\n",
    "\n",
    "uri = \"bolt://localhost:7687\"\n",
    "uri = \"neo4j+s://0e2eaff8.databases.neo4j.io\"\n",
    "username = \"neo4j\"\n",
    "\n",
    "\n",
    "def get_graphml_by_name(name):\n",
    "    with driver.session() as session:\n",
    "        result = session.run(f\"MATCH (n)-[r]-(m) WHERE n.name = '{name}' RETURN n, r, m\")\n",
    "        nodes = []\n",
    "        edges = []\n",
    "        for record in result:\n",
    "            node = record['n']\n",
    "            nodes.append(node)\n",
    "            rel = record['r']\n",
    "            edges.append(rel)\n",
    "        graphml = build_graphml(nodes, edges)\n",
    "        return graphml\n",
    "\n",
    "def build_graphml(nodes, edges):\n",
    "    graphml = '<?xml version=\"1.0\" encoding=\"UTF-8\"?>\\n'\n",
    "    graphml += '<graphml xmlns=\"http://graphml.graphdrawing.org/xmlns\">\\n'\n",
    "    graphml += '<graph id=\"G\" edgedefault=\"directed\">\\n'\n",
    "    for node in nodes:\n",
    "        graphml += f'<node id=\"{node.id}\">\\n'\n",
    "        graphml += f'<data key=\"name\">{node[\"name\"]}</data>\\n'\n",
    "        graphml += f'<data key=\"age\">{node[\"age\"]}</data>\\n'\n",
    "        graphml += '</node>\\n'\n",
    "    for edge in edges:\n",
    "        graphml += f'<edge source=\"{edge.start_node.id}\" target=\"{edge.end_node.id}\"/>\\n'\n",
    "    graphml += '</graph>\\n'\n",
    "    graphml += '</graphml>\\n'\n",
    "    return graphml\n"
   ]
  }
 ],
 "metadata": {
  "kernelspec": {
   "display_name": "Python 3 (ipykernel)",
   "language": "python",
   "name": "python3"
  },
  "language_info": {
   "codemirror_mode": {
    "name": "ipython",
    "version": 3
   },
   "file_extension": ".py",
   "mimetype": "text/x-python",
   "name": "python",
   "nbconvert_exporter": "python",
   "pygments_lexer": "ipython3",
   "version": "3.9.12"
  }
 },
 "nbformat": 4,
 "nbformat_minor": 5
}
